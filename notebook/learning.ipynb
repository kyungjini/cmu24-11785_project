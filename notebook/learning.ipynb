{
 "cells": [
  {
   "cell_type": "code",
   "execution_count": null,
   "metadata": {},
   "outputs": [
    {
     "name": "stdout",
     "output_type": "stream",
     "text": [
      "cpu\n"
     ]
    }
   ],
   "source": [
    "import os\n",
    "import pandas as pd\n",
    "from PIL import Image\n",
    "import matplotlib.pyplot as plt \n",
    "from tqdm import tqdm\n",
    "\n",
    "import torch\n",
    "import torch.nn as nn\n",
    "from torch import optim\n",
    "from torch.utils.data import Dataset, DataLoader\n",
    "from torchvision import transforms\n",
    "import torchvision.models as models\n",
    "from torchsummary import summary\n",
    "from sklearn.model_selection import train_test_split\n",
    "from sklearn.metrics import roc_auc_score\n",
    "\n",
    "device = torch.device(\"cuda\" if torch.cuda.is_available() else \"cpu\")\n",
    "print(device)"
   ]
  },
  {
   "cell_type": "markdown",
   "metadata": {},
   "source": [
    "# Config"
   ]
  },
  {
   "cell_type": "code",
   "execution_count": null,
   "metadata": {},
   "outputs": [],
   "source": [
    "# config\n",
    "random_seed = 42\n",
    "data_size = 100000\n",
    "batch_size = 64\n",
    "num_classes = 14\n",
    "pos_weight = None # We plan to implement \"pos_weight\" in future experiment\n",
    "num_epochs = 4\n",
    "freeze_encoder_epochs = 2"
   ]
  },
  {
   "cell_type": "markdown",
   "metadata": {},
   "source": [
    "# Dataset"
   ]
  },
  {
   "cell_type": "code",
   "execution_count": null,
   "metadata": {},
   "outputs": [],
   "source": [
    "def split_data(label_file, train_ratio=0.7, val_ratio=0.15, test_ratio=0.15):\n",
    "    labels_df = pd.read_csv(label_file)[:data_size]\n",
    "    \n",
    "    train_df, temp_df = train_test_split(labels_df, test_size=(1 - train_ratio), random_state=random_seed)\n",
    "    val_df, test_df = train_test_split(temp_df, test_size=(test_ratio / (val_ratio + test_ratio)), random_state=random_seed)\n",
    "    \n",
    "    return train_df, val_df, test_df\n",
    "\n",
    "transform = transforms.Compose([\n",
    "    transforms.Resize((224, 224)),\n",
    "    transforms.ToTensor(),\n",
    "    transforms.Normalize(mean=[0.5], std=[0.5])\n",
    "])\n",
    "\n",
    "class CXRDataset(Dataset):\n",
    "    def __init__(self, image_dir, labels_df, transform=None):\n",
    "        self.image_dir = image_dir\n",
    "        self.labels_df = labels_df\n",
    "        self.transform = transform\n",
    "\n",
    "    def __len__(self):\n",
    "        return len(self.labels_df)\n",
    "\n",
    "    def __getitem__(self, idx):\n",
    "        row = self.labels_df.iloc[idx]\n",
    "        \n",
    "        img_name = row['ImageID']\n",
    "        labels = row.iloc[:14].values.astype(int)\n",
    "        \n",
    "        img_path = os.path.join(self.image_dir, img_name)\n",
    "        image = Image.open(img_path).convert('RGB')\n",
    "        \n",
    "        if self.transform:\n",
    "            image = self.transform(image)\n",
    "        \n",
    "        return image, torch.tensor(labels, dtype=torch.int64)"
   ]
  },
  {
   "cell_type": "code",
   "execution_count": null,
   "metadata": {},
   "outputs": [],
   "source": [
    "label_file = \"<file_location>/data_preprocessed.csv\"\n",
    "image_dir = \"<file_location>\"\n",
    "\n",
    "train_df, val_df, test_df = split_data(label_file)\n",
    "\n",
    "train_dataset = CXRDataset(image_dir=image_dir, labels_df=train_df, transform=transform)\n",
    "val_dataset = CXRDataset(image_dir=image_dir, labels_df=val_df, transform=transform)\n",
    "test_dataset = CXRDataset(image_dir=image_dir, labels_df=test_df, transform=transform)\n",
    "\n",
    "train_loader = DataLoader(train_dataset, batch_size=batch_size, shuffle=True, num_workers=0)\n",
    "val_loader = DataLoader(val_dataset, batch_size=batch_size, shuffle=False, num_workers=0)\n",
    "test_loader = DataLoader(test_dataset, batch_size=batch_size, shuffle=False, num_workers=0)"
   ]
  },
  {
   "cell_type": "markdown",
   "metadata": {},
   "source": [
    "# U-Net"
   ]
  },
  {
   "cell_type": "code",
   "execution_count": null,
   "metadata": {},
   "outputs": [],
   "source": [
    "class UNet(nn.Module):\n",
    "    def __init__(self, num_classes, dropout_rate=0.3):\n",
    "        super(UNet, self).__init__()\n",
    "        \n",
    "        # U-Net Encoder: ResNet Backbone\n",
    "        self.base_model = models.resnet34(pretrained=True)\n",
    "        self.conv1 = self.base_model.conv1\n",
    "        self.bn1 = self.base_model.bn1\n",
    "        self.relu = self.base_model.relu\n",
    "        self.maxpool = self.base_model.maxpool\n",
    "        self.layer1 = self.base_model.layer1\n",
    "        self.layer2 = self.base_model.layer2\n",
    "        self.layer3 = self.base_model.layer3\n",
    "        self.layer4 = self.base_model.layer4\n",
    "        \n",
    "        # U-Net Decoder\n",
    "        self.up1 = nn.ConvTranspose2d(512, 256, kernel_size=2, stride=2)\n",
    "        self.dec1 = self.conv_block(512, 256, dropout_rate)\n",
    "        \n",
    "        self.up2 = nn.ConvTranspose2d(256, 128, kernel_size=2, stride=2)\n",
    "        self.dec2 = self.conv_block(256, 128, dropout_rate)\n",
    "        \n",
    "        self.up3 = nn.ConvTranspose2d(128, 64, kernel_size=2, stride=2)\n",
    "        self.dec3 = self.conv_block(128, 64, dropout_rate)\n",
    "        \n",
    "        # Segmentation Output\n",
    "        self.seg_output = nn.Conv2d(64, num_classes, kernel_size=1)\n",
    "\n",
    "        # Classification Head\n",
    "        self.gap = nn.AdaptiveAvgPool2d(1)\n",
    "        self.classifier_dropout = nn.Dropout(dropout_rate)\n",
    "        self.fc = nn.Linear(512 + 64, num_classes)  # Adjusted input size\n",
    "\n",
    "    def conv_block(self, in_ch, out_ch, dropout_rate):\n",
    "        return nn.Sequential(\n",
    "            nn.Conv2d(in_ch, out_ch, kernel_size=3, padding=1),\n",
    "            nn.ReLU(inplace=True),\n",
    "            nn.Dropout(dropout_rate),\n",
    "            nn.Conv2d(out_ch, out_ch, kernel_size=3, padding=1),\n",
    "            nn.ReLU(inplace=True),\n",
    "            nn.Dropout(dropout_rate)\n",
    "        )\n",
    "\n",
    "    def forward(self, x):\n",
    "        # Encoder\n",
    "        x1 = self.relu(self.bn1(self.conv1(x)))\n",
    "        x2 = self.maxpool(x1)\n",
    "        x3 = self.layer1(x2)\n",
    "        x4 = self.layer2(x3)\n",
    "        x5 = self.layer3(x4)\n",
    "        x6 = self.layer4(x5)\n",
    "\n",
    "        # Decoder\n",
    "        up1 = self.up1(x6)\n",
    "        dec1 = self.dec1(torch.cat([up1, x5], dim=1))\n",
    "\n",
    "        up2 = self.up2(dec1)\n",
    "        dec2 = self.dec2(torch.cat([up2, x4], dim=1))\n",
    "\n",
    "        up3 = self.up3(dec2)\n",
    "        dec3 = self.dec3(torch.cat([up3, x3], dim=1))\n",
    "\n",
    "        # Segmentation Output\n",
    "        # We plan to leverage segmentation output by using segmentation label in future experiments\n",
    "        seg_output = self.seg_output(dec3)\n",
    "\n",
    "        # Combine features from encoder and decoder for classification\n",
    "        gap_x6 = self.gap(x6).view(x6.size(0), -1)\n",
    "        gap_dec3 = self.gap(dec3).view(dec3.size(0), -1)\n",
    "        combined_features = torch.cat([gap_x6, gap_dec3], dim=1)\n",
    "\n",
    "        # Classification Head\n",
    "        combined_features = self.classifier_dropout(combined_features)\n",
    "        class_output = self.fc(combined_features)\n",
    "\n",
    "        return class_output, seg_output"
   ]
  },
  {
   "cell_type": "code",
   "execution_count": null,
   "metadata": {},
   "outputs": [],
   "source": [
    "def train_model_unet(model, train_loader, val_loader, criterion, optimizer, device, num_epochs=10, freeze_encoder_epochs=2, pos_weight=None, best_model_path=\"model_unet.pth\"):\n",
    "    if pos_weight is not None:\n",
    "        criterion = nn.BCEWithLogitsLoss(pos_weight=pos_weight)\n",
    "\n",
    "    train_losses = []\n",
    "    val_losses = []\n",
    "\n",
    "    # Initially freeze encoder\n",
    "    for param in model.conv1.parameters():\n",
    "        param.requires_grad = False\n",
    "    for param in model.bn1.parameters():\n",
    "        param.requires_grad = False\n",
    "    for param in model.layer1.parameters():\n",
    "        param.requires_grad = False\n",
    "    for param in model.layer2.parameters():\n",
    "        param.requires_grad = False\n",
    "    for param in model.layer3.parameters():\n",
    "        param.requires_grad = False\n",
    "    for param in model.layer4.parameters():\n",
    "        param.requires_grad = False\n",
    "\n",
    "    for epoch in range(num_epochs):\n",
    "        if epoch == freeze_encoder_epochs:\n",
    "            # Unfreeze layer3, layer4 for fine-tuning\n",
    "            for param in model.layer3.parameters():\n",
    "                param.requires_grad = True\n",
    "            for param in model.layer4.parameters():\n",
    "                param.requires_grad = True\n",
    "\n",
    "        model.train()\n",
    "        train_loss = 0\n",
    "        for images, labels in tqdm(train_loader, desc=f\"Epoch {epoch+1}/{num_epochs} - Train\"):\n",
    "            images, labels = images.to(device), labels.to(device).float()\n",
    "\n",
    "            class_output, _ = model(images)\n",
    "            loss = criterion(class_output, labels)\n",
    "\n",
    "            optimizer.zero_grad()\n",
    "            loss.backward()\n",
    "            optimizer.step()\n",
    "\n",
    "            train_loss += loss.item()\n",
    "\n",
    "        train_loss /= len(train_loader)\n",
    "        train_losses.append(train_loss)\n",
    "\n",
    "        val_loss = 0\n",
    "        model.eval()\n",
    "        with torch.no_grad():\n",
    "            for images, labels in tqdm(val_loader, desc=f\"Epoch {epoch+1}/{num_epochs} - Validation\"):\n",
    "                images, labels = images.to(device), labels.to(device).float()\n",
    "\n",
    "                class_output, _ = model(images)\n",
    "                loss = criterion(class_output, labels)\n",
    "\n",
    "                val_loss += loss.item()\n",
    "\n",
    "        val_loss /= len(val_loader)\n",
    "        val_losses.append(val_loss)\n",
    "\n",
    "        print(f\"Epoch {epoch+1}: Train Loss = {train_loss:.4f}, Val Loss = {val_loss:.4f}\")\n",
    "\n",
    "        if val_loss < best_val_loss:\n",
    "            best_val_loss = val_loss\n",
    "            torch.save({\n",
    "                \"model_state_dict\": model.state_dict(),\n",
    "                \"optimizer_state_dict\": optimizer.state_dict(),\n",
    "                \"epoch\": epoch + 1,\n",
    "                \"val_loss\": val_loss,\n",
    "            }, best_model_path)\n",
    "            print(f\"New best model saved at epoch {epoch+1} with Val Loss = {val_loss:.4f}\")\n",
    "            \n",
    "    return train_losses, val_losses"
   ]
  },
  {
   "cell_type": "code",
   "execution_count": null,
   "metadata": {},
   "outputs": [
    {
     "name": "stderr",
     "output_type": "stream",
     "text": [
      "c:\\Users\\JamesK\\miniconda3\\envs\\cmu24\\lib\\site-packages\\torchvision\\models\\_utils.py:208: UserWarning: The parameter 'pretrained' is deprecated since 0.13 and may be removed in the future, please use 'weights' instead.\n",
      "  warnings.warn(\n",
      "c:\\Users\\JamesK\\miniconda3\\envs\\cmu24\\lib\\site-packages\\torchvision\\models\\_utils.py:223: UserWarning: Arguments other than a weight enum or `None` for 'weights' are deprecated since 0.13 and may be removed in the future. The current behavior is equivalent to passing `weights=ResNet34_Weights.IMAGENET1K_V1`. You can also use `weights=ResNet34_Weights.DEFAULT` to get the most up-to-date weights.\n",
      "  warnings.warn(msg)\n"
     ]
    }
   ],
   "source": [
    "model = UNet(num_classes=num_classes, dropout_rate=0.3).to(device)\n",
    "criterion = nn.BCEWithLogitsLoss(pos_weight=pos_weight) if pos_weight is not None else nn.BCEWithLogitsLoss()\n",
    "optimizer = optim.Adam(filter(lambda p: p.requires_grad, model.parameters()), lr=1e-4)"
   ]
  },
  {
   "cell_type": "code",
   "execution_count": 39,
   "metadata": {},
   "outputs": [
    {
     "name": "stdout",
     "output_type": "stream",
     "text": [
      "=================================================================\n",
      "Layer (type:depth-idx)                   Param #\n",
      "=================================================================\n",
      "├─ResNet: 1-1                            --\n",
      "|    └─Conv2d: 2-1                       9,408\n",
      "|    └─BatchNorm2d: 2-2                  128\n",
      "|    └─ReLU: 2-3                         --\n",
      "|    └─MaxPool2d: 2-4                    --\n",
      "|    └─Sequential: 2-5                   --\n",
      "|    |    └─BasicBlock: 3-1              73,984\n",
      "|    |    └─BasicBlock: 3-2              73,984\n",
      "|    |    └─BasicBlock: 3-3              73,984\n",
      "|    └─Sequential: 2-6                   --\n",
      "|    |    └─BasicBlock: 3-4              230,144\n",
      "|    |    └─BasicBlock: 3-5              295,424\n",
      "|    |    └─BasicBlock: 3-6              295,424\n",
      "|    |    └─BasicBlock: 3-7              295,424\n",
      "|    └─Sequential: 2-7                   --\n",
      "|    |    └─BasicBlock: 3-8              919,040\n",
      "|    |    └─BasicBlock: 3-9              1,180,672\n",
      "|    |    └─BasicBlock: 3-10             1,180,672\n",
      "|    |    └─BasicBlock: 3-11             1,180,672\n",
      "|    |    └─BasicBlock: 3-12             1,180,672\n",
      "|    |    └─BasicBlock: 3-13             1,180,672\n",
      "|    └─Sequential: 2-8                   --\n",
      "|    |    └─BasicBlock: 3-14             3,673,088\n",
      "|    |    └─BasicBlock: 3-15             4,720,640\n",
      "|    |    └─BasicBlock: 3-16             4,720,640\n",
      "|    └─AdaptiveAvgPool2d: 2-9            --\n",
      "|    └─Linear: 2-10                      513,000\n",
      "├─Conv2d: 1-2                            (recursive)\n",
      "├─BatchNorm2d: 1-3                       (recursive)\n",
      "├─ReLU: 1-4                              --\n",
      "├─MaxPool2d: 1-5                         --\n",
      "├─Sequential: 1-6                        (recursive)\n",
      "|    └─BasicBlock: 2-11                  (recursive)\n",
      "|    |    └─Conv2d: 3-17                 (recursive)\n",
      "|    |    └─BatchNorm2d: 3-18            (recursive)\n",
      "|    |    └─ReLU: 3-19                   --\n",
      "|    |    └─Conv2d: 3-20                 (recursive)\n",
      "|    |    └─BatchNorm2d: 3-21            (recursive)\n",
      "|    └─BasicBlock: 2-12                  (recursive)\n",
      "|    |    └─Conv2d: 3-22                 (recursive)\n",
      "|    |    └─BatchNorm2d: 3-23            (recursive)\n",
      "|    |    └─ReLU: 3-24                   --\n",
      "|    |    └─Conv2d: 3-25                 (recursive)\n",
      "|    |    └─BatchNorm2d: 3-26            (recursive)\n",
      "|    └─BasicBlock: 2-13                  (recursive)\n",
      "|    |    └─Conv2d: 3-27                 (recursive)\n",
      "|    |    └─BatchNorm2d: 3-28            (recursive)\n",
      "|    |    └─ReLU: 3-29                   --\n",
      "|    |    └─Conv2d: 3-30                 (recursive)\n",
      "|    |    └─BatchNorm2d: 3-31            (recursive)\n",
      "├─Sequential: 1-7                        (recursive)\n",
      "|    └─BasicBlock: 2-14                  (recursive)\n",
      "|    |    └─Conv2d: 3-32                 (recursive)\n",
      "|    |    └─BatchNorm2d: 3-33            (recursive)\n",
      "|    |    └─ReLU: 3-34                   --\n",
      "|    |    └─Conv2d: 3-35                 (recursive)\n",
      "|    |    └─BatchNorm2d: 3-36            (recursive)\n",
      "|    |    └─Sequential: 3-37             (recursive)\n",
      "|    └─BasicBlock: 2-15                  (recursive)\n",
      "|    |    └─Conv2d: 3-38                 (recursive)\n",
      "|    |    └─BatchNorm2d: 3-39            (recursive)\n",
      "|    |    └─ReLU: 3-40                   --\n",
      "|    |    └─Conv2d: 3-41                 (recursive)\n",
      "|    |    └─BatchNorm2d: 3-42            (recursive)\n",
      "|    └─BasicBlock: 2-16                  (recursive)\n",
      "|    |    └─Conv2d: 3-43                 (recursive)\n",
      "|    |    └─BatchNorm2d: 3-44            (recursive)\n",
      "|    |    └─ReLU: 3-45                   --\n",
      "|    |    └─Conv2d: 3-46                 (recursive)\n",
      "|    |    └─BatchNorm2d: 3-47            (recursive)\n",
      "|    └─BasicBlock: 2-17                  (recursive)\n",
      "|    |    └─Conv2d: 3-48                 (recursive)\n",
      "|    |    └─BatchNorm2d: 3-49            (recursive)\n",
      "|    |    └─ReLU: 3-50                   --\n",
      "|    |    └─Conv2d: 3-51                 (recursive)\n",
      "|    |    └─BatchNorm2d: 3-52            (recursive)\n",
      "├─Sequential: 1-8                        (recursive)\n",
      "|    └─BasicBlock: 2-18                  (recursive)\n",
      "|    |    └─Conv2d: 3-53                 (recursive)\n",
      "|    |    └─BatchNorm2d: 3-54            (recursive)\n",
      "|    |    └─ReLU: 3-55                   --\n",
      "|    |    └─Conv2d: 3-56                 (recursive)\n",
      "|    |    └─BatchNorm2d: 3-57            (recursive)\n",
      "|    |    └─Sequential: 3-58             (recursive)\n",
      "|    └─BasicBlock: 2-19                  (recursive)\n",
      "|    |    └─Conv2d: 3-59                 (recursive)\n",
      "|    |    └─BatchNorm2d: 3-60            (recursive)\n",
      "|    |    └─ReLU: 3-61                   --\n",
      "|    |    └─Conv2d: 3-62                 (recursive)\n",
      "|    |    └─BatchNorm2d: 3-63            (recursive)\n",
      "|    └─BasicBlock: 2-20                  (recursive)\n",
      "|    |    └─Conv2d: 3-64                 (recursive)\n",
      "|    |    └─BatchNorm2d: 3-65            (recursive)\n",
      "|    |    └─ReLU: 3-66                   --\n",
      "|    |    └─Conv2d: 3-67                 (recursive)\n",
      "|    |    └─BatchNorm2d: 3-68            (recursive)\n",
      "|    └─BasicBlock: 2-21                  (recursive)\n",
      "|    |    └─Conv2d: 3-69                 (recursive)\n",
      "|    |    └─BatchNorm2d: 3-70            (recursive)\n",
      "|    |    └─ReLU: 3-71                   --\n",
      "|    |    └─Conv2d: 3-72                 (recursive)\n",
      "|    |    └─BatchNorm2d: 3-73            (recursive)\n",
      "|    └─BasicBlock: 2-22                  (recursive)\n",
      "|    |    └─Conv2d: 3-74                 (recursive)\n",
      "|    |    └─BatchNorm2d: 3-75            (recursive)\n",
      "|    |    └─ReLU: 3-76                   --\n",
      "|    |    └─Conv2d: 3-77                 (recursive)\n",
      "|    |    └─BatchNorm2d: 3-78            (recursive)\n",
      "|    └─BasicBlock: 2-23                  (recursive)\n",
      "|    |    └─Conv2d: 3-79                 (recursive)\n",
      "|    |    └─BatchNorm2d: 3-80            (recursive)\n",
      "|    |    └─ReLU: 3-81                   --\n",
      "|    |    └─Conv2d: 3-82                 (recursive)\n",
      "|    |    └─BatchNorm2d: 3-83            (recursive)\n",
      "├─Sequential: 1-9                        (recursive)\n",
      "|    └─BasicBlock: 2-24                  (recursive)\n",
      "|    |    └─Conv2d: 3-84                 (recursive)\n",
      "|    |    └─BatchNorm2d: 3-85            (recursive)\n",
      "|    |    └─ReLU: 3-86                   --\n",
      "|    |    └─Conv2d: 3-87                 (recursive)\n",
      "|    |    └─BatchNorm2d: 3-88            (recursive)\n",
      "|    |    └─Sequential: 3-89             (recursive)\n",
      "|    └─BasicBlock: 2-25                  (recursive)\n",
      "|    |    └─Conv2d: 3-90                 (recursive)\n",
      "|    |    └─BatchNorm2d: 3-91            (recursive)\n",
      "|    |    └─ReLU: 3-92                   --\n",
      "|    |    └─Conv2d: 3-93                 (recursive)\n",
      "|    |    └─BatchNorm2d: 3-94            (recursive)\n",
      "|    └─BasicBlock: 2-26                  (recursive)\n",
      "|    |    └─Conv2d: 3-95                 (recursive)\n",
      "|    |    └─BatchNorm2d: 3-96            (recursive)\n",
      "|    |    └─ReLU: 3-97                   --\n",
      "|    |    └─Conv2d: 3-98                 (recursive)\n",
      "|    |    └─BatchNorm2d: 3-99            (recursive)\n",
      "├─ConvTranspose2d: 1-10                  524,544\n",
      "├─Sequential: 1-11                       --\n",
      "|    └─Conv2d: 2-27                      1,179,904\n",
      "|    └─ReLU: 2-28                        --\n",
      "|    └─Dropout: 2-29                     --\n",
      "|    └─Conv2d: 2-30                      590,080\n",
      "|    └─ReLU: 2-31                        --\n",
      "|    └─Dropout: 2-32                     --\n",
      "├─ConvTranspose2d: 1-12                  131,200\n",
      "├─Sequential: 1-13                       --\n",
      "|    └─Conv2d: 2-33                      295,040\n",
      "|    └─ReLU: 2-34                        --\n",
      "|    └─Dropout: 2-35                     --\n",
      "|    └─Conv2d: 2-36                      147,584\n",
      "|    └─ReLU: 2-37                        --\n",
      "|    └─Dropout: 2-38                     --\n",
      "├─ConvTranspose2d: 1-14                  32,832\n",
      "├─Sequential: 1-15                       --\n",
      "|    └─Conv2d: 2-39                      73,792\n",
      "|    └─ReLU: 2-40                        --\n",
      "|    └─Dropout: 2-41                     --\n",
      "|    └─Conv2d: 2-42                      36,928\n",
      "|    └─ReLU: 2-43                        --\n",
      "|    └─Dropout: 2-44                     --\n",
      "├─Conv2d: 1-16                           910\n",
      "├─AdaptiveAvgPool2d: 1-17                --\n",
      "├─Dropout: 1-18                          --\n",
      "├─Linear: 1-19                           8,078\n",
      "=================================================================\n",
      "Total params: 24,818,564\n",
      "Trainable params: 24,818,564\n",
      "Non-trainable params: 0\n",
      "=================================================================\n"
     ]
    },
    {
     "data": {
      "text/plain": [
       "=================================================================\n",
       "Layer (type:depth-idx)                   Param #\n",
       "=================================================================\n",
       "├─ResNet: 1-1                            --\n",
       "|    └─Conv2d: 2-1                       9,408\n",
       "|    └─BatchNorm2d: 2-2                  128\n",
       "|    └─ReLU: 2-3                         --\n",
       "|    └─MaxPool2d: 2-4                    --\n",
       "|    └─Sequential: 2-5                   --\n",
       "|    |    └─BasicBlock: 3-1              73,984\n",
       "|    |    └─BasicBlock: 3-2              73,984\n",
       "|    |    └─BasicBlock: 3-3              73,984\n",
       "|    └─Sequential: 2-6                   --\n",
       "|    |    └─BasicBlock: 3-4              230,144\n",
       "|    |    └─BasicBlock: 3-5              295,424\n",
       "|    |    └─BasicBlock: 3-6              295,424\n",
       "|    |    └─BasicBlock: 3-7              295,424\n",
       "|    └─Sequential: 2-7                   --\n",
       "|    |    └─BasicBlock: 3-8              919,040\n",
       "|    |    └─BasicBlock: 3-9              1,180,672\n",
       "|    |    └─BasicBlock: 3-10             1,180,672\n",
       "|    |    └─BasicBlock: 3-11             1,180,672\n",
       "|    |    └─BasicBlock: 3-12             1,180,672\n",
       "|    |    └─BasicBlock: 3-13             1,180,672\n",
       "|    └─Sequential: 2-8                   --\n",
       "|    |    └─BasicBlock: 3-14             3,673,088\n",
       "|    |    └─BasicBlock: 3-15             4,720,640\n",
       "|    |    └─BasicBlock: 3-16             4,720,640\n",
       "|    └─AdaptiveAvgPool2d: 2-9            --\n",
       "|    └─Linear: 2-10                      513,000\n",
       "├─Conv2d: 1-2                            (recursive)\n",
       "├─BatchNorm2d: 1-3                       (recursive)\n",
       "├─ReLU: 1-4                              --\n",
       "├─MaxPool2d: 1-5                         --\n",
       "├─Sequential: 1-6                        (recursive)\n",
       "|    └─BasicBlock: 2-11                  (recursive)\n",
       "|    |    └─Conv2d: 3-17                 (recursive)\n",
       "|    |    └─BatchNorm2d: 3-18            (recursive)\n",
       "|    |    └─ReLU: 3-19                   --\n",
       "|    |    └─Conv2d: 3-20                 (recursive)\n",
       "|    |    └─BatchNorm2d: 3-21            (recursive)\n",
       "|    └─BasicBlock: 2-12                  (recursive)\n",
       "|    |    └─Conv2d: 3-22                 (recursive)\n",
       "|    |    └─BatchNorm2d: 3-23            (recursive)\n",
       "|    |    └─ReLU: 3-24                   --\n",
       "|    |    └─Conv2d: 3-25                 (recursive)\n",
       "|    |    └─BatchNorm2d: 3-26            (recursive)\n",
       "|    └─BasicBlock: 2-13                  (recursive)\n",
       "|    |    └─Conv2d: 3-27                 (recursive)\n",
       "|    |    └─BatchNorm2d: 3-28            (recursive)\n",
       "|    |    └─ReLU: 3-29                   --\n",
       "|    |    └─Conv2d: 3-30                 (recursive)\n",
       "|    |    └─BatchNorm2d: 3-31            (recursive)\n",
       "├─Sequential: 1-7                        (recursive)\n",
       "|    └─BasicBlock: 2-14                  (recursive)\n",
       "|    |    └─Conv2d: 3-32                 (recursive)\n",
       "|    |    └─BatchNorm2d: 3-33            (recursive)\n",
       "|    |    └─ReLU: 3-34                   --\n",
       "|    |    └─Conv2d: 3-35                 (recursive)\n",
       "|    |    └─BatchNorm2d: 3-36            (recursive)\n",
       "|    |    └─Sequential: 3-37             (recursive)\n",
       "|    └─BasicBlock: 2-15                  (recursive)\n",
       "|    |    └─Conv2d: 3-38                 (recursive)\n",
       "|    |    └─BatchNorm2d: 3-39            (recursive)\n",
       "|    |    └─ReLU: 3-40                   --\n",
       "|    |    └─Conv2d: 3-41                 (recursive)\n",
       "|    |    └─BatchNorm2d: 3-42            (recursive)\n",
       "|    └─BasicBlock: 2-16                  (recursive)\n",
       "|    |    └─Conv2d: 3-43                 (recursive)\n",
       "|    |    └─BatchNorm2d: 3-44            (recursive)\n",
       "|    |    └─ReLU: 3-45                   --\n",
       "|    |    └─Conv2d: 3-46                 (recursive)\n",
       "|    |    └─BatchNorm2d: 3-47            (recursive)\n",
       "|    └─BasicBlock: 2-17                  (recursive)\n",
       "|    |    └─Conv2d: 3-48                 (recursive)\n",
       "|    |    └─BatchNorm2d: 3-49            (recursive)\n",
       "|    |    └─ReLU: 3-50                   --\n",
       "|    |    └─Conv2d: 3-51                 (recursive)\n",
       "|    |    └─BatchNorm2d: 3-52            (recursive)\n",
       "├─Sequential: 1-8                        (recursive)\n",
       "|    └─BasicBlock: 2-18                  (recursive)\n",
       "|    |    └─Conv2d: 3-53                 (recursive)\n",
       "|    |    └─BatchNorm2d: 3-54            (recursive)\n",
       "|    |    └─ReLU: 3-55                   --\n",
       "|    |    └─Conv2d: 3-56                 (recursive)\n",
       "|    |    └─BatchNorm2d: 3-57            (recursive)\n",
       "|    |    └─Sequential: 3-58             (recursive)\n",
       "|    └─BasicBlock: 2-19                  (recursive)\n",
       "|    |    └─Conv2d: 3-59                 (recursive)\n",
       "|    |    └─BatchNorm2d: 3-60            (recursive)\n",
       "|    |    └─ReLU: 3-61                   --\n",
       "|    |    └─Conv2d: 3-62                 (recursive)\n",
       "|    |    └─BatchNorm2d: 3-63            (recursive)\n",
       "|    └─BasicBlock: 2-20                  (recursive)\n",
       "|    |    └─Conv2d: 3-64                 (recursive)\n",
       "|    |    └─BatchNorm2d: 3-65            (recursive)\n",
       "|    |    └─ReLU: 3-66                   --\n",
       "|    |    └─Conv2d: 3-67                 (recursive)\n",
       "|    |    └─BatchNorm2d: 3-68            (recursive)\n",
       "|    └─BasicBlock: 2-21                  (recursive)\n",
       "|    |    └─Conv2d: 3-69                 (recursive)\n",
       "|    |    └─BatchNorm2d: 3-70            (recursive)\n",
       "|    |    └─ReLU: 3-71                   --\n",
       "|    |    └─Conv2d: 3-72                 (recursive)\n",
       "|    |    └─BatchNorm2d: 3-73            (recursive)\n",
       "|    └─BasicBlock: 2-22                  (recursive)\n",
       "|    |    └─Conv2d: 3-74                 (recursive)\n",
       "|    |    └─BatchNorm2d: 3-75            (recursive)\n",
       "|    |    └─ReLU: 3-76                   --\n",
       "|    |    └─Conv2d: 3-77                 (recursive)\n",
       "|    |    └─BatchNorm2d: 3-78            (recursive)\n",
       "|    └─BasicBlock: 2-23                  (recursive)\n",
       "|    |    └─Conv2d: 3-79                 (recursive)\n",
       "|    |    └─BatchNorm2d: 3-80            (recursive)\n",
       "|    |    └─ReLU: 3-81                   --\n",
       "|    |    └─Conv2d: 3-82                 (recursive)\n",
       "|    |    └─BatchNorm2d: 3-83            (recursive)\n",
       "├─Sequential: 1-9                        (recursive)\n",
       "|    └─BasicBlock: 2-24                  (recursive)\n",
       "|    |    └─Conv2d: 3-84                 (recursive)\n",
       "|    |    └─BatchNorm2d: 3-85            (recursive)\n",
       "|    |    └─ReLU: 3-86                   --\n",
       "|    |    └─Conv2d: 3-87                 (recursive)\n",
       "|    |    └─BatchNorm2d: 3-88            (recursive)\n",
       "|    |    └─Sequential: 3-89             (recursive)\n",
       "|    └─BasicBlock: 2-25                  (recursive)\n",
       "|    |    └─Conv2d: 3-90                 (recursive)\n",
       "|    |    └─BatchNorm2d: 3-91            (recursive)\n",
       "|    |    └─ReLU: 3-92                   --\n",
       "|    |    └─Conv2d: 3-93                 (recursive)\n",
       "|    |    └─BatchNorm2d: 3-94            (recursive)\n",
       "|    └─BasicBlock: 2-26                  (recursive)\n",
       "|    |    └─Conv2d: 3-95                 (recursive)\n",
       "|    |    └─BatchNorm2d: 3-96            (recursive)\n",
       "|    |    └─ReLU: 3-97                   --\n",
       "|    |    └─Conv2d: 3-98                 (recursive)\n",
       "|    |    └─BatchNorm2d: 3-99            (recursive)\n",
       "├─ConvTranspose2d: 1-10                  524,544\n",
       "├─Sequential: 1-11                       --\n",
       "|    └─Conv2d: 2-27                      1,179,904\n",
       "|    └─ReLU: 2-28                        --\n",
       "|    └─Dropout: 2-29                     --\n",
       "|    └─Conv2d: 2-30                      590,080\n",
       "|    └─ReLU: 2-31                        --\n",
       "|    └─Dropout: 2-32                     --\n",
       "├─ConvTranspose2d: 1-12                  131,200\n",
       "├─Sequential: 1-13                       --\n",
       "|    └─Conv2d: 2-33                      295,040\n",
       "|    └─ReLU: 2-34                        --\n",
       "|    └─Dropout: 2-35                     --\n",
       "|    └─Conv2d: 2-36                      147,584\n",
       "|    └─ReLU: 2-37                        --\n",
       "|    └─Dropout: 2-38                     --\n",
       "├─ConvTranspose2d: 1-14                  32,832\n",
       "├─Sequential: 1-15                       --\n",
       "|    └─Conv2d: 2-39                      73,792\n",
       "|    └─ReLU: 2-40                        --\n",
       "|    └─Dropout: 2-41                     --\n",
       "|    └─Conv2d: 2-42                      36,928\n",
       "|    └─ReLU: 2-43                        --\n",
       "|    └─Dropout: 2-44                     --\n",
       "├─Conv2d: 1-16                           910\n",
       "├─AdaptiveAvgPool2d: 1-17                --\n",
       "├─Dropout: 1-18                          --\n",
       "├─Linear: 1-19                           8,078\n",
       "=================================================================\n",
       "Total params: 24,818,564\n",
       "Trainable params: 24,818,564\n",
       "Non-trainable params: 0\n",
       "================================================================="
      ]
     },
     "execution_count": 39,
     "metadata": {},
     "output_type": "execute_result"
    }
   ],
   "source": [
    "summary(model, input_size=(3, 224, 224))"
   ]
  },
  {
   "cell_type": "code",
   "execution_count": null,
   "metadata": {},
   "outputs": [
    {
     "name": "stderr",
     "output_type": "stream",
     "text": [
      "Epoch 1/4 - Train: 100%|██████████| 1094/1094 [04:17<00:00,  4.25it/s]\n",
      "Epoch 1/4 - Validation: 100%|██████████| 235/235 [00:49<00:00,  4.74it/s]\n"
     ]
    },
    {
     "name": "stdout",
     "output_type": "stream",
     "text": [
      "Epoch 1: Train Loss = 0.3235, Val Loss = 0.2985\n"
     ]
    },
    {
     "name": "stderr",
     "output_type": "stream",
     "text": [
      "Epoch 2/4 - Train: 100%|██████████| 1094/1094 [04:17<00:00,  4.25it/s]\n",
      "Epoch 2/4 - Validation: 100%|██████████| 235/235 [00:49<00:00,  4.74it/s]\n"
     ]
    },
    {
     "name": "stdout",
     "output_type": "stream",
     "text": [
      "Epoch 2: Train Loss = 0.2995, Val Loss = 0.2909\n"
     ]
    },
    {
     "name": "stderr",
     "output_type": "stream",
     "text": [
      "Epoch 3/4 - Train: 100%|██████████| 1094/1094 [05:03<00:00,  3.60it/s]\n",
      "Epoch 3/4 - Validation: 100%|██████████| 235/235 [00:49<00:00,  4.75it/s]\n"
     ]
    },
    {
     "name": "stdout",
     "output_type": "stream",
     "text": [
      "Epoch 3: Train Loss = 0.2700, Val Loss = 0.2622\n"
     ]
    },
    {
     "name": "stderr",
     "output_type": "stream",
     "text": [
      "Epoch 4/4 - Train: 100%|██████████| 1094/1094 [05:04<00:00,  3.60it/s]\n",
      "Epoch 4/4 - Validation: 100%|██████████| 235/235 [00:49<00:00,  4.75it/s]"
     ]
    },
    {
     "name": "stdout",
     "output_type": "stream",
     "text": [
      "Epoch 4: Train Loss = 0.2525, Val Loss = 0.2583\n"
     ]
    },
    {
     "name": "stderr",
     "output_type": "stream",
     "text": [
      "\n"
     ]
    }
   ],
   "source": [
    "# Train and collect loss values\n",
    "train_losses, val_losses = train_model_unet(model, train_loader, val_loader, criterion, optimizer, device, num_epochs=num_epochs, freeze_encoder_epochs=freeze_encoder_epochs, pos_weight=pos_weight)"
   ]
  },
  {
   "cell_type": "markdown",
   "metadata": {},
   "source": [
    "# Plot loss"
   ]
  },
  {
   "cell_type": "code",
   "execution_count": null,
   "metadata": {},
   "outputs": [],
   "source": [
    "def plot_loss(train_losses, val_losses):\n",
    "    plt.figure(figsize=(10, 5))\n",
    "    plt.plot(range(1, len(train_losses) + 1), train_losses, label=\"Train Loss\")\n",
    "    plt.plot(range(1, len(val_losses) + 1), val_losses, label=\"Validation Loss\")\n",
    "    plt.xlabel(\"Epoch\")\n",
    "    plt.ylabel(\"Loss\")\n",
    "    plt.title(\"Train and Validation Loss\")\n",
    "    plt.legend()\n",
    "    plt.grid()\n",
    "    plt.show()"
   ]
  },
  {
   "cell_type": "code",
   "execution_count": null,
   "metadata": {},
   "outputs": [
    {
     "data": {
      "image/png": "[encoded data removed]",
      "text/plain": [
       "<Figure size 1000x500 with 1 Axes>"
      ]
     },
     "metadata": {},
     "output_type": "display_data"
    }
   ],
   "source": [
    "plot_loss(train_losses, val_losses)\n",
    "\n",
    "losses_df = pd.DataFrame({\n",
    "    'Epoch': range(1, len(train_losses) + 1),\n",
    "    'Train Loss': train_losses,\n",
    "    'Validation Loss': val_losses\n",
    "})\n",
    "losses_df.to_csv('losses_unet.csv', index=False)"
   ]
  },
  {
   "cell_type": "code",
   "execution_count": null,
   "metadata": {},
   "outputs": [],
   "source": [
    "def test_model_unet(model, test_loader, device, num_classes):\n",
    "    \n",
    "    model.eval()\n",
    "    predictions = []\n",
    "    true_labels = []\n",
    "\n",
    "    with torch.no_grad():\n",
    "        for images, labels in test_loader:\n",
    "            images, labels = images.to(device), labels.to(device)\n",
    "\n",
    "            # Model prediction\n",
    "            class_output, _ = model(images)\n",
    "            preds = torch.sigmoid(class_output)\n",
    "\n",
    "            predictions.append(preds.cpu())\n",
    "            true_labels.append(labels.cpu())\n",
    "\n",
    "    predictions = torch.cat(predictions, dim=0).numpy()  \n",
    "    true_labels = torch.cat(true_labels, dim=0).numpy()  \n",
    "\n",
    "    auc_scores = {}\n",
    "    for i in range(num_classes):\n",
    "        try:\n",
    "            auc_val = roc_auc_score(true_labels[:, i], predictions[:, i])\n",
    "            auc_scores[f'Class {i}'] = auc_val\n",
    "        except ValueError:\n",
    "            # Handle cases where all labels for a class are 0 or 1\n",
    "            auc_scores[f'Class {i}'] = None\n",
    "\n",
    "    return auc_scores"
   ]
  },
  {
   "cell_type": "code",
   "execution_count": null,
   "metadata": {},
   "outputs": [
    {
     "name": "stdout",
     "output_type": "stream",
     "text": [
      "Class 0: AUC = 0.8006819702523579\n",
      "Class 1: AUC = 0.8029813716128098\n",
      "Class 2: AUC = 0.8060314749922772\n",
      "Class 3: AUC = 0.8802380538161747\n",
      "Class 4: AUC = 0.7317382490982991\n",
      "Class 5: AUC = 0.6631832666621467\n",
      "Class 6: AUC = 0.714130125981622\n",
      "Class 7: AUC = 0.7415506803241094\n",
      "Class 8: AUC = 0.8528142588777471\n",
      "Class 9: AUC = 0.8968232221180371\n",
      "Class 10: AUC = 0.8305189694490411\n",
      "Class 11: AUC = 0.7148114794182262\n",
      "Class 12: AUC = 0.8509149845460282\n",
      "Class 13: AUC = 0.888872277761898\n"
     ]
    }
   ],
   "source": [
    "auc_scores = test_model_unet(model, test_loader, device, num_classes)\n",
    "\n",
    "with open('auc_scores_base.txt', 'w') as f:\n",
    "    for class_name, auc in auc_scores.items():\n",
    "        auc = round(auc, 3) if auc is not None else auc\n",
    "        f.write(f\"{class_name}: {auc if auc is not None else 'Undefined (all labels are 0 or 1)'}\\n\")\n",
    "        print(f\"{class_name}: {auc if auc is not None else 'Undefined (all labels are 0 or 1)'}\")"
   ]
  },
  {
   "cell_type": "code",
   "execution_count": null,
   "metadata": {},
   "outputs": [],
   "source": [
    "# ResNet Encoder (no decoder)"
   ]
  },
  {
   "cell_type": "code",
   "execution_count": null,
   "metadata": {},
   "outputs": [],
   "source": [
    "class ResNetEncoder(nn.Module):\n",
    "    def __init__(self, num_classes=14, dropout_rate=0.3):\n",
    "        super().__init__()\n",
    "        base_model = models.resnet34(pretrained=True)\n",
    "        self.conv1 = base_model.conv1\n",
    "        self.bn1 = base_model.bn1\n",
    "        self.relu = base_model.relu\n",
    "        self.maxpool = base_model.maxpool\n",
    "        self.layer1 = base_model.layer1\n",
    "        self.layer2 = base_model.layer2\n",
    "        self.layer3 = base_model.layer3\n",
    "        self.layer4 = base_model.layer4a\n",
    "\n",
    "        self.gap = nn.AdaptiveAvgPool2d(1)\n",
    "        self.dropout = nn.Dropout(dropout_rate)\n",
    "        self.fc = nn.Linear(512, num_classes)\n",
    "\n",
    "    def forward(self, x):\n",
    "        x1 = self.relu(self.bn1(self.conv1(x)))   # [B, 64, 112, 112]\n",
    "        x2 = self.maxpool(x1)                     # [B, 64, 56, 56]\n",
    "        x3 = self.layer1(x2)                      # [B, 64, 56, 56]\n",
    "        x4 = self.layer2(x3)                      # [B, 128, 28, 28]\n",
    "        x5 = self.layer3(x4)                      # [B, 256, 14, 14]\n",
    "        x6 = self.layer4(x5)                      # [B, 512, 7, 7]\n",
    "\n",
    "        gap_x6 = self.gap(x6).view(x6.size(0), -1) # [B, 512]\n",
    "        gap_x6 = self.dropout(gap_x6)\n",
    "        class_output = self.fc(gap_x6)             # [B, num_classes]\n",
    "\n",
    "        return class_output"
   ]
  },
  {
   "cell_type": "code",
   "execution_count": null,
   "metadata": {},
   "outputs": [],
   "source": [
    "def test_model_enc(model, test_loader, device, num_classes):\n",
    "\n",
    "    model.eval()\n",
    "    predictions = []\n",
    "    true_labels = []\n",
    "\n",
    "    with torch.no_grad():\n",
    "        for images, labels in test_loader:\n",
    "            images, labels = images.to(device), labels.to(device)\n",
    "\n",
    "            class_output = model(images)\n",
    "            preds = torch.sigmoid(class_output)\n",
    "\n",
    "            predictions.append(preds.cpu())\n",
    "            true_labels.append(labels.cpu())\n",
    "\n",
    "    predictions = torch.cat(predictions, dim=0).numpy()  \n",
    "    true_labels = torch.cat(true_labels, dim=0).numpy()  \n",
    "\n",
    "    auc_scores = {}\n",
    "    for i in range(num_classes):\n",
    "        try:\n",
    "            auc_val = roc_auc_score(true_labels[:, i], predictions[:, i])\n",
    "            auc_scores[f'Class {i}'] = auc_val\n",
    "        except ValueError:\n",
    "            auc_scores[f'Class {i}'] = None\n",
    "\n",
    "    return auc_scores"
   ]
  },
  {
   "cell_type": "code",
   "execution_count": null,
   "metadata": {},
   "outputs": [],
   "source": [
    "def train_model_enc(model, train_loader, val_loader, criterion, optimizer, device, num_epochs=10, pos_weight=None, best_model_path=\"model_enc.pth\"):\n",
    "\n",
    "    if pos_weight is not None:\n",
    "        criterion = nn.BCEWithLogitsLoss(pos_weight=pos_weight)\n",
    "\n",
    "    train_losses = []\n",
    "    val_losses = []\n",
    "\n",
    "    best_val_loss = float('inf')  \n",
    "\n",
    "    for epoch in range(num_epochs):\n",
    "        model.train()\n",
    "        train_loss = 0.0\n",
    "\n",
    "        for images, labels in tqdm(train_loader, desc=f\"Epoch {epoch+1}/{num_epochs} - Train\"):\n",
    "            images, labels = images.to(device), labels.to(device).float()\n",
    "\n",
    "            class_output = model(images)\n",
    "            loss = criterion(class_output, labels)\n",
    "\n",
    "            optimizer.zero_grad()\n",
    "            loss.backward()\n",
    "            optimizer.step()\n",
    "\n",
    "            train_loss += loss.item()\n",
    "\n",
    "        train_loss /= len(train_loader)\n",
    "        train_losses.append(train_loss)\n",
    "\n",
    "        val_loss = 0.0\n",
    "        model.eval()\n",
    "        with torch.no_grad():\n",
    "            for images, labels in tqdm(val_loader, desc=f\"Epoch {epoch+1}/{num_epochs} - Validation\"):\n",
    "                images, labels = images.to(device), labels.to(device).float()\n",
    "\n",
    "                class_output = model(images)\n",
    "                loss = criterion(class_output, labels)\n",
    "\n",
    "                val_loss += loss.item()\n",
    "\n",
    "        val_loss /= len(val_loader)\n",
    "        val_losses.append(val_loss)\n",
    "\n",
    "        print(f\"Epoch {epoch+1}: Train Loss = {train_loss:.4f}, Val Loss = {val_loss:.4f}\")\n",
    "\n",
    "        if val_loss < best_val_loss:\n",
    "            best_val_loss = val_loss\n",
    "            torch.save({\n",
    "                \"model_state_dict\": model.state_dict(),\n",
    "                \"optimizer_state_dict\": optimizer.state_dict(),\n",
    "                \"epoch\": epoch + 1,\n",
    "                \"val_loss\": val_loss,\n",
    "            }, best_model_path)\n",
    "            print(f\"New best model saved at epoch {epoch+1} with Val Loss = {val_loss:.4f}\")\n",
    "\n",
    "    return train_losses, val_losses"
   ]
  },
  {
   "cell_type": "code",
   "execution_count": null,
   "metadata": {},
   "outputs": [
    {
     "name": "stderr",
     "output_type": "stream",
     "text": [
      "c:\\Users\\JamesK\\miniconda3\\envs\\cmu24\\lib\\site-packages\\torchvision\\models\\_utils.py:208: UserWarning: The parameter 'pretrained' is deprecated since 0.13 and may be removed in the future, please use 'weights' instead.\n",
      "  warnings.warn(\n",
      "c:\\Users\\JamesK\\miniconda3\\envs\\cmu24\\lib\\site-packages\\torchvision\\models\\_utils.py:223: UserWarning: Arguments other than a weight enum or `None` for 'weights' are deprecated since 0.13 and may be removed in the future. The current behavior is equivalent to passing `weights=ResNet34_Weights.IMAGENET1K_V1`. You can also use `weights=ResNet34_Weights.DEFAULT` to get the most up-to-date weights.\n",
      "  warnings.warn(msg)\n"
     ]
    }
   ],
   "source": [
    "model = ResNetEncoder(num_classes=num_classes, dropout_rate=0.3).to(device)\n",
    "\n",
    "criterion = nn.BCEWithLogitsLoss()\n",
    "optimizer = optim.Adam(model.parameters(), lr=1e-4)"
   ]
  },
  {
   "cell_type": "code",
   "execution_count": null,
   "metadata": {},
   "outputs": [],
   "source": [
    "summary(model, input_size=(3, 224, 224))"
   ]
  },
  {
   "cell_type": "code",
   "execution_count": null,
   "metadata": {},
   "outputs": [
    {
     "name": "stderr",
     "output_type": "stream",
     "text": [
      "Epoch 1/4 - Train: 100%|██████████| 1094/1094 [05:34<00:00,  3.27it/s]\n",
      "Epoch 1/4 - Validation: 100%|██████████| 235/235 [00:48<00:00,  4.88it/s]\n"
     ]
    },
    {
     "name": "stdout",
     "output_type": "stream",
     "text": [
      "Epoch 1: Train Loss = 0.2782, Val Loss = 0.2593\n",
      "New best model saved at epoch 1 with Val Loss = 0.2593\n"
     ]
    },
    {
     "name": "stderr",
     "output_type": "stream",
     "text": [
      "Epoch 2/4 - Train: 100%|██████████| 1094/1094 [05:33<00:00,  3.28it/s]\n",
      "Epoch 2/4 - Validation: 100%|██████████| 235/235 [00:47<00:00,  4.93it/s]\n"
     ]
    },
    {
     "name": "stdout",
     "output_type": "stream",
     "text": [
      "Epoch 2: Train Loss = 0.2543, Val Loss = 0.2549\n",
      "New best model saved at epoch 2 with Val Loss = 0.2549\n"
     ]
    },
    {
     "name": "stderr",
     "output_type": "stream",
     "text": [
      "Epoch 3/4 - Train: 100%|██████████| 1094/1094 [05:33<00:00,  3.28it/s]\n",
      "Epoch 3/4 - Validation: 100%|██████████| 235/235 [00:47<00:00,  4.95it/s]\n"
     ]
    },
    {
     "name": "stdout",
     "output_type": "stream",
     "text": [
      "Epoch 3: Train Loss = 0.2422, Val Loss = 0.2600\n"
     ]
    },
    {
     "name": "stderr",
     "output_type": "stream",
     "text": [
      "Epoch 4/4 - Train: 100%|██████████| 1094/1094 [05:32<00:00,  3.29it/s]\n",
      "Epoch 4/4 - Validation: 100%|██████████| 235/235 [00:47<00:00,  4.97it/s]"
     ]
    },
    {
     "name": "stdout",
     "output_type": "stream",
     "text": [
      "Epoch 4: Train Loss = 0.2244, Val Loss = 0.2633\n"
     ]
    },
    {
     "name": "stderr",
     "output_type": "stream",
     "text": [
      "\n"
     ]
    }
   ],
   "source": [
    "train_losses, val_losses = train_model_enc(model, train_loader, val_loader, criterion, optimizer, device, num_epochs=10, pos_weight=pos_weight)"
   ]
  },
  {
   "cell_type": "code",
   "execution_count": null,
   "metadata": {},
   "outputs": [
    {
     "name": "stdout",
     "output_type": "stream",
     "text": [
      "Class 0: AUC = 0.7975706262970075\n",
      "Class 1: AUC = 0.7969959076605625\n",
      "Class 2: AUC = 0.8016196127408524\n",
      "Class 3: AUC = 0.8793532676121841\n",
      "Class 4: AUC = 0.7411702697794728\n",
      "Class 5: AUC = 0.6821209347526386\n",
      "Class 6: AUC = 0.7172440744359493\n",
      "Class 7: AUC = 0.7414899989807878\n",
      "Class 8: AUC = 0.8465522283274944\n",
      "Class 9: AUC = 0.8929939226002122\n",
      "Class 10: AUC = 0.8490352000359414\n",
      "Class 11: AUC = 0.710860651789696\n",
      "Class 12: AUC = 0.8549025404226559\n",
      "Class 13: AUC = 0.8872604885764253\n"
     ]
    }
   ],
   "source": [
    "auc_scores = test_model_enc(model, test_loader, device, num_classes)\n",
    "\n",
    "with open('auc_scores_enc.txt', 'w') as f:\n",
    "    for class_name, auc in auc_scores.items():\n",
    "        auc = round(auc, 3) if auc is not None else auc\n",
    "        f.write(f\"{class_name}: {auc if auc is not None else 'Undefined (all labels are 0 or 1)'}\\n\")\n",
    "        print(f\"{class_name}: AUC = {auc if auc is not None else 'Undefined (all labels are 0 or 1)'}\")"
   ]
  },
  {
   "cell_type": "code",
   "execution_count": null,
   "metadata": {},
   "outputs": [
    {
     "data": {
      "image/png": "[encoded data removed]",
      "text/plain": [
       "<Figure size 1000x500 with 1 Axes>"
      ]
     },
     "metadata": {},
     "output_type": "display_data"
    }
   ],
   "source": [
    "plot_loss(train_losses, val_losses)\n",
    "\n",
    "losses_df = pd.DataFrame({\n",
    "    'Epoch': range(1, len(train_losses) + 1),\n",
    "    'Train Loss': train_losses,\n",
    "    'Validation Loss': val_losses\n",
    "})\n",
    "losses_df.to_csv('losses_unet.csv', index=False)"
   ]
  }
 ],
 "metadata": {
  "kernelspec": {
   "display_name": "cmu24",
   "language": "python",
   "name": "python3"
  },
  "language_info": {
   "codemirror_mode": {
    "name": "ipython",
    "version": 3
   },
   "file_extension": ".py",
   "mimetype": "text/x-python",
   "name": "python",
   "nbconvert_exporter": "python",
   "pygments_lexer": "ipython3",
   "version": "3.10.14"
  }
 },
 "nbformat": 4,
 "nbformat_minor": 2
}
