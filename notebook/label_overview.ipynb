{
 "cells": [
  {
   "cell_type": "code",
   "execution_count": 1,
   "metadata": {},
   "outputs": [],
   "source": [
    "import pandas as pd\n",
    "pd.set_option('display.expand_frame_repr', False)"
   ]
  },
  {
   "cell_type": "code",
   "execution_count": 2,
   "metadata": {},
   "outputs": [],
   "source": [
    "csv_file = \"/Users/james/Documents/dataset/MIMIC-CXR/labels/mimic-cxr-2.0.0-chexpert.csv\"\n",
    "df = pd.read_csv(csv_file)"
   ]
  },
  {
   "cell_type": "code",
   "execution_count": 3,
   "metadata": {},
   "outputs": [
    {
     "name": "stdout",
     "output_type": "stream",
     "text": [
      "   subject_id  study_id  Atelectasis  Cardiomegaly  Consolidation  Edema  Enlarged Cardiomediastinum  Fracture  Lung Lesion  Lung Opacity  No Finding  Pleural Effusion  Pleural Other  Pneumonia  Pneumothorax  Support Devices\n",
      "0    10000032  50414267          NaN           NaN            NaN    NaN                         NaN       NaN          NaN           NaN         1.0               NaN            NaN        NaN           NaN              NaN\n",
      "1    10000032  53189527          NaN           NaN            NaN    NaN                         NaN       NaN          NaN           NaN         1.0               NaN            NaN        NaN           NaN              NaN\n",
      "2    10000032  53911762          NaN           NaN            NaN    NaN                         NaN       NaN          NaN           NaN         1.0               NaN            NaN        NaN           NaN              NaN\n",
      "3    10000032  56699142          NaN           NaN            NaN    NaN                         NaN       NaN          NaN           NaN         1.0               NaN            NaN        NaN           NaN              NaN\n",
      "4    10000764  57375967          NaN           NaN            1.0    NaN                         NaN       NaN          NaN           NaN         NaN               NaN            NaN       -1.0           NaN              NaN\n"
     ]
    }
   ],
   "source": [
    "print(df.head())"
   ]
  },
  {
   "cell_type": "code",
   "execution_count": null,
   "metadata": {},
   "outputs": [],
   "source": [
    "print(f'Counts 1: {(df == 1).sum().sum()}')\n",
    "print(f'Counts 0: {(df == 0).sum().sum()}')\n",
    "print(f'Counts -1: {(df == -1).sum().sum()}')\n",
    "print(f'Counts BLANK: {df.isna().sum().sum()}')"
   ]
  },
  {
   "cell_type": "code",
   "execution_count": 4,
   "metadata": {},
   "outputs": [
    {
     "name": "stdout",
     "output_type": "stream",
     "text": [
      "data count: 227827\n",
      "Unique study_id count: 227827\n",
      "\n",
      "subject_id\n",
      "study_id\n",
      "Atelectasis\n",
      "Cardiomegaly\n",
      "Consolidation\n",
      "Edema\n",
      "Enlarged Cardiomediastinum\n",
      "Fracture\n",
      "Lung Lesion\n",
      "Lung Opacity\n",
      "No Finding\n",
      "Pleural Effusion\n",
      "Pleural Other\n",
      "Pneumonia\n",
      "Pneumothorax\n",
      "Support Devices\n"
     ]
    }
   ],
   "source": [
    "print(f\"data count: {len(df)}\")\n",
    "print(f\"Unique study_id count: {df['study_id'].nunique()}\")\n",
    "\n",
    "print()\n",
    "for column in df.columns:\n",
    "    print(column)"
   ]
  },
  {
   "cell_type": "code",
   "execution_count": 5,
   "metadata": {},
   "outputs": [],
   "source": [
    "df.drop(columns=[\"subject_id\"], inplace=True)\n",
    "df.replace(-1, 0, inplace=True)\n",
    "df.fillna(0, inplace=True)"
   ]
  },
  {
   "cell_type": "code",
   "execution_count": 6,
   "metadata": {},
   "outputs": [
    {
     "name": "stdout",
     "output_type": "stream",
     "text": [
      "   study_id  Atelectasis  Cardiomegaly  Consolidation  Edema  Enlarged Cardiomediastinum  Fracture  Lung Lesion  Lung Opacity  No Finding  Pleural Effusion  Pleural Other  Pneumonia  Pneumothorax  Support Devices\n",
      "0  50414267          0.0           0.0            0.0    0.0                         0.0       0.0          0.0           0.0         1.0               0.0            0.0        0.0           0.0              0.0\n",
      "1  53189527          0.0           0.0            0.0    0.0                         0.0       0.0          0.0           0.0         1.0               0.0            0.0        0.0           0.0              0.0\n",
      "2  53911762          0.0           0.0            0.0    0.0                         0.0       0.0          0.0           0.0         1.0               0.0            0.0        0.0           0.0              0.0\n",
      "3  56699142          0.0           0.0            0.0    0.0                         0.0       0.0          0.0           0.0         1.0               0.0            0.0        0.0           0.0              0.0\n",
      "4  57375967          0.0           0.0            1.0    0.0                         0.0       0.0          0.0           0.0         0.0               0.0            0.0        0.0           0.0              0.0\n"
     ]
    }
   ],
   "source": [
    "print(df.head())"
   ]
  },
  {
   "cell_type": "code",
   "execution_count": 8,
   "metadata": {},
   "outputs": [
    {
     "name": "stdout",
     "output_type": "stream",
     "text": [
      "Counts 1: 423065\n",
      "Counts 0: 2766513\n",
      "Counts -1: 0\n",
      "Counts BLANK: 0\n"
     ]
    }
   ],
   "source": [
    "print(f'Counts 1: {(df == 1).sum().sum()}')\n",
    "print(f'Counts 0: {(df == 0).sum().sum()}')\n",
    "print(f'Counts -1: {(df == -1).sum().sum()}')\n",
    "print(f'Counts BLANK: {df.isna().sum().sum()}')"
   ]
  },
  {
   "cell_type": "code",
   "execution_count": 9,
   "metadata": {},
   "outputs": [
    {
     "name": "stdout",
     "output_type": "stream",
     "text": [
      "No Finding\n",
      "0.0    152372\n",
      "1.0     75455\n",
      "Name: count, dtype: int64\n"
     ]
    }
   ],
   "source": [
    "print(df[\"No Finding\"].value_counts())"
   ]
  },
  {
   "cell_type": "code",
   "execution_count": null,
   "metadata": {},
   "outputs": [],
   "source": []
  }
 ],
 "metadata": {
  "kernelspec": {
   "display_name": "cmu24",
   "language": "python",
   "name": "python3"
  },
  "language_info": {
   "codemirror_mode": {
    "name": "ipython",
    "version": 3
   },
   "file_extension": ".py",
   "mimetype": "text/x-python",
   "name": "python",
   "nbconvert_exporter": "python",
   "pygments_lexer": "ipython3",
   "version": "3.10.14"
  }
 },
 "nbformat": 4,
 "nbformat_minor": 2
}
