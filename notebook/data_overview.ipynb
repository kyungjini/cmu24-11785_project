{
 "cells": [
  {
   "cell_type": "code",
   "execution_count": 1,
   "metadata": {},
   "outputs": [],
   "source": [
    "import pandas as pd"
   ]
  },
  {
   "cell_type": "code",
   "execution_count": 21,
   "metadata": {},
   "outputs": [
    {
     "name": "stdout",
     "output_type": "stream",
     "text": [
      "image count: 359972\n"
     ]
    }
   ],
   "source": [
    "metadata_file = \"/Users/james/Documents/dataset/MIMIC-CXR/metadata.csv\"\n",
    "\n",
    "df = pd.read_csv(metadata_file)\n",
    "print(f'image count: {len(df)}')"
   ]
  },
  {
   "cell_type": "code",
   "execution_count": 23,
   "metadata": {},
   "outputs": [
    {
     "name": "stdout",
     "output_type": "stream",
     "text": [
      "Procedure\n",
      "CHEST (PA AND LAT)                                             234970\n",
      "CHEST (PORTABLE AP)                                            123571\n",
      "DX CHEST PORTABLE PICC LINE PLACEMENT                             328\n",
      "DX CHEST PORT LINE/TUBE PLCMT 1 EXAM                              255\n",
      "DX CHEST PORT LINE/TUBE PLCMT 2 EXAMS                             165\n",
      "DX CHEST PORT LINE/TUBE PLCMT 3 EXAMS                             157\n",
      "DX CHEST & RIBS                                                   121\n",
      "DX CHEST WITH DECUB                                                93\n",
      "CHEST (SINGLE VIEW)                                                83\n",
      "DX CHEST 2 VIEW PICC LINE PLACEMENT                                76\n",
      "DX CHEST PORT LINE/TUBE PLCMT 4 EXAMS                              60\n",
      "CHEST PORT LINE PLACEMENT                                          20\n",
      "DX CHEST PORT LINE/TUBE PLCMT 5 EXAMS                              17\n",
      "TRAUMA #3 (PORT CHEST ONLY)                                        14\n",
      "CHEST PORT LINE/TUBE PLCT 1 EXAM                                   13\n",
      "TRAUMA No.2 (AP CXR & PELVIS PORT)                                  7\n",
      "CHEST (PRE-OP PA & LAT)                                             6\n",
      "CHEST PRE-OP                                                        6\n",
      "DX CHEST SGL VIEW PICC LINE PLACEMENT                               3\n",
      "CHEST SGL VIEW/LINE PLACEMENT                                       2\n",
      "NEONATE CHEST & ABD TOGETHER PORTABLE LINE/TUBE PLCT 1 EXAM         2\n",
      "ABDOMEN (SUPINE ONLY)                                               1\n",
      "CHEST (PRE-OP AP ONLY)                                              1\n",
      "DX TRAUMA SERIES (PORTABLE)                                         1\n",
      "Name: count, dtype: int64\n"
     ]
    }
   ],
   "source": [
    "print(df[\"Procedure\"].value_counts())"
   ]
  },
  {
   "cell_type": "markdown",
   "metadata": {},
   "source": [
    "# View"
   ]
  },
  {
   "cell_type": "code",
   "execution_count": 3,
   "metadata": {},
   "outputs": [
    {
     "name": "stdout",
     "output_type": "stream",
     "text": [
      "View\n",
      "antero-posterior         146448\n",
      "postero-anterior          95858\n",
      "lateral                   82612\n",
      "left lateral              35033\n",
      "left anterior oblique        21\n",
      "Name: count, dtype: int64\n"
     ]
    }
   ],
   "source": [
    "print(df[\"View\"].value_counts())"
   ]
  },
  {
   "cell_type": "markdown",
   "metadata": {},
   "source": [
    "# StudyID Null check"
   ]
  },
  {
   "cell_type": "code",
   "execution_count": 4,
   "metadata": {},
   "outputs": [
    {
     "name": "stdout",
     "output_type": "stream",
     "text": [
      "\"StudyID\".isna count: 11582\n",
      "\n",
      "\"StudyID\".isna value count:\n",
      "View\n",
      "antero-posterior         4541\n",
      "postero-anterior         3161\n",
      "lateral                  2790\n",
      "left lateral             1088\n",
      "left anterior oblique       2\n",
      "Name: count, dtype: int64\n"
     ]
    }
   ],
   "source": [
    "print(f'\\\"StudyID\\\".isna count: {df[\"StudyID\"].isna().sum()}')\n",
    "\n",
    "print('\\n\\\"StudyID\\\".isna value count:')\n",
    "nan_study_df = df[df[\"StudyID\"].isna()]\n",
    "print(nan_study_df[\"View\"].value_counts())"
   ]
  },
  {
   "cell_type": "markdown",
   "metadata": {},
   "source": [
    "# Study per StudyID"
   ]
  },
  {
   "cell_type": "code",
   "execution_count": 5,
   "metadata": {},
   "outputs": [
    {
     "name": "stdout",
     "output_type": "stream",
     "text": [
      "PatientID\n",
      "10000032    4\n",
      "10000764    1\n",
      "10000898    2\n",
      "10000935    6\n",
      "10000980    9\n",
      "           ..\n",
      "19999287    7\n",
      "19999376    1\n",
      "19999442    2\n",
      "19999733    1\n",
      "19999987    3\n",
      "Name: StudyID, Length: 64011, dtype: int64\n"
     ]
    }
   ],
   "source": [
    "study_counts = df.groupby(\"PatientID\")[\"StudyID\"].nunique()\n",
    "print(study_counts)"
   ]
  },
  {
   "cell_type": "code",
   "execution_count": 6,
   "metadata": {},
   "outputs": [
    {
     "name": "stdout",
     "output_type": "stream",
     "text": [
      "StudyID\n",
      "0       1507\n",
      "1      32013\n",
      "2      10247\n",
      "3       5264\n",
      "4       3316\n",
      "       ...  \n",
      "106        1\n",
      "116        1\n",
      "123        1\n",
      "127        1\n",
      "158        1\n",
      "Name: count, Length: 89, dtype: int64\n"
     ]
    }
   ],
   "source": [
    "patient_counts = study_counts.value_counts().sort_index()\n",
    "print(patient_counts)"
   ]
  },
  {
   "cell_type": "markdown",
   "metadata": {},
   "source": [
    "# StudyID & View"
   ]
  },
  {
   "cell_type": "code",
   "execution_count": 15,
   "metadata": {},
   "outputs": [],
   "source": [
    "study_ids = df[\"StudyID\"].unique()"
   ]
  },
  {
   "cell_type": "code",
   "execution_count": 19,
   "metadata": {},
   "outputs": [
    {
     "name": "stdout",
     "output_type": "stream",
     "text": [
      "['lateral', 'postero-anterior']\n"
     ]
    }
   ],
   "source": [
    "print(list(df[\"View\"][df[\"StudyID\"] == study_ids[0]]))"
   ]
  },
  {
   "cell_type": "markdown",
   "metadata": {},
   "source": [
    "# Export CSV (data selection)"
   ]
  },
  {
   "cell_type": "code",
   "execution_count": 31,
   "metadata": {},
   "outputs": [
    {
     "name": "stdout",
     "output_type": "stream",
     "text": [
      "359972\n",
      "348390\n"
     ]
    }
   ],
   "source": [
    "df2 = df[[\"ImageID\", \"StudyID\", \"View\"]]\n",
    "print(len(df2))\n",
    "df2 = df2.dropna()\n",
    "print(len(df2))\n"
   ]
  },
  {
   "cell_type": "code",
   "execution_count": 40,
   "metadata": {},
   "outputs": [
    {
     "name": "stdout",
     "output_type": "stream",
     "text": [
      "234604\n"
     ]
    },
    {
     "data": {
      "text/plain": [
       "View\n",
       "antero-posterior    141907\n",
       "postero-anterior     92697\n",
       "Name: count, dtype: int64"
      ]
     },
     "execution_count": 40,
     "metadata": {},
     "output_type": "execute_result"
    }
   ],
   "source": [
    "df2 = df2[df2[\"View\"].isin([\"postero-anterior\", \"antero-posterior\"])]\n",
    "print(len(df2))\n",
    "df2.value_counts(\"View\")"
   ]
  },
  {
   "cell_type": "code",
   "execution_count": 44,
   "metadata": {},
   "outputs": [],
   "source": [
    "df2[\"StudyID\"] = df2[\"StudyID\"].str.replace(\"^s\", \"\", regex=True)"
   ]
  },
  {
   "cell_type": "markdown",
   "metadata": {},
   "source": [
    "# Merge it with CheXbert label"
   ]
  },
  {
   "cell_type": "code",
   "execution_count": 56,
   "metadata": {},
   "outputs": [],
   "source": [
    "import sys\n",
    "import os\n",
    "\n",
    "sys.path.append(os.path.abspath(\"./../src/preprocess\"))\n",
    "from preprocess import label_preprocess\n",
    "\n",
    "csv_file = \"/Users/james/Documents/dataset/MIMIC-CXR/labels/mimic-cxr-2.0.0-chexpert.csv\"\n",
    "df_label = pd.read_csv(csv_file)\n",
    "df_label.drop(columns=[\"subject_id\"], inplace=True)\n",
    "df_label.replace(-1, 0, inplace=True)\n",
    "df_label.fillna(0, inplace=True)"
   ]
  },
  {
   "cell_type": "code",
   "execution_count": 57,
   "metadata": {},
   "outputs": [
    {
     "name": "stdout",
     "output_type": "stream",
     "text": [
      "int64\n",
      "int64\n"
     ]
    }
   ],
   "source": [
    "print(df_label[\"study_id\"].dtype)  # study_id의 데이터 타입 확인\n",
    "print(df2[\"StudyID\"].dtype)"
   ]
  },
  {
   "cell_type": "code",
   "execution_count": 58,
   "metadata": {},
   "outputs": [],
   "source": [
    "df2[\"StudyID\"] = df2[\"StudyID\"].astype(int)"
   ]
  },
  {
   "cell_type": "code",
   "execution_count": 62,
   "metadata": {},
   "outputs": [
    {
     "name": "stdout",
     "output_type": "stream",
     "text": [
      "   Atelectasis  Cardiomegaly  Consolidation  Edema  \\\n",
      "0          0.0           0.0            0.0    0.0   \n",
      "1          0.0           0.0            0.0    0.0   \n",
      "2          0.0           0.0            0.0    0.0   \n",
      "3          0.0           0.0            0.0    0.0   \n",
      "4          0.0           0.0            0.0    0.0   \n",
      "\n",
      "   Enlarged Cardiomediastinum  Fracture  Lung Lesion  Lung Opacity  \\\n",
      "0                         0.0       0.0          0.0           0.0   \n",
      "1                         0.0       0.0          0.0           0.0   \n",
      "2                         0.0       0.0          0.0           0.0   \n",
      "3                         0.0       0.0          0.0           0.0   \n",
      "4                         0.0       0.0          0.0           0.0   \n",
      "\n",
      "   No Finding  Pleural Effusion  Pleural Other  Pneumonia  Pneumothorax  \\\n",
      "0         1.0               0.0            0.0        0.0           0.0   \n",
      "1         1.0               0.0            0.0        0.0           0.0   \n",
      "2         1.0               0.0            0.0        0.0           0.0   \n",
      "3         1.0               0.0            0.0        0.0           0.0   \n",
      "4         1.0               0.0            0.0        0.0           0.0   \n",
      "\n",
      "   Support Devices                                           ImageID  \\\n",
      "0              0.0  02aa804e-bde0afdd-112c0b34-7bc16630-4e384014.jpg   \n",
      "1              0.0  2a2277a9-b0ded155-c0de8eb9-c124d10e-82c5caab.jpg   \n",
      "2              0.0  fffabebf-74fd3a1f-673b6b41-96ec0ac9-2ab69818.jpg   \n",
      "3              0.0  68b5c4b1-227d0485-9cc38c3f-7b84ab51-4b472714.jpg   \n",
      "4              0.0  ea030e7a-2e3b1346-bc518786-7a8fd698-f673b44c.jpg   \n",
      "\n",
      "    StudyID              View  \n",
      "0  50414267  postero-anterior  \n",
      "1  53189527  postero-anterior  \n",
      "2  53911762  antero-posterior  \n",
      "3  53911762  antero-posterior  \n",
      "4  56699142  antero-posterior  \n"
     ]
    }
   ],
   "source": [
    "merged_df = pd.merge(df_label, df2, left_on=\"study_id\", right_on=\"StudyID\", how=\"inner\")\n",
    "merged_df.drop(columns=[\"study_id\"], inplace=True)\n",
    "print(merged_df.head())"
   ]
  },
  {
   "cell_type": "code",
   "execution_count": 63,
   "metadata": {},
   "outputs": [],
   "source": [
    "merged_df.to_csv(\"/Users/james/Documents/dataset/MIMIC-CXR/data_selection-241201.csv\", index=False)"
   ]
  },
  {
   "cell_type": "code",
   "execution_count": null,
   "metadata": {},
   "outputs": [],
   "source": []
  }
 ],
 "metadata": {
  "kernelspec": {
   "display_name": "cmu24",
   "language": "python",
   "name": "python3"
  },
  "language_info": {
   "codemirror_mode": {
    "name": "ipython",
    "version": 3
   },
   "file_extension": ".py",
   "mimetype": "text/x-python",
   "name": "python",
   "nbconvert_exporter": "python",
   "pygments_lexer": "ipython3",
   "version": "3.10.14"
  }
 },
 "nbformat": 4,
 "nbformat_minor": 2
}
